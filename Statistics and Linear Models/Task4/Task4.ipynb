{
 "cells": [
  {
   "cell_type": "code",
   "execution_count": 1,
   "metadata": {},
   "outputs": [],
   "source": [
    "import numpy as np\n",
    "import scipy\n",
    "import matplotlib.pyplot as plt\n",
    "import pandas as pd\n",
    "from scipy import stats\n",
    "from scipy.special import eval_sh_legendre\n",
    "from typing import List\n",
    "from tqdm import tqdm\n",
    "from scipy.stats.sampling import TransformedDensityRejection, SimpleRatioUniforms\n",
    "from typing import *"
   ]
  },
  {
   "cell_type": "code",
   "execution_count": 2,
   "metadata": {},
   "outputs": [],
   "source": [
    "def phi_1(u):\n",
    "    return np.sqrt(3) * (2 * u - 1)\n",
    "\n",
    "def phi_2(u):\n",
    "    return np.sqrt(48) * (0.25 - np.abs(u - 0.5))\n",
    "\n",
    "def get_T(sample, n, m, phi):\n",
    "    R = np.argsort(sample) + 1\n",
    "    N = m + n\n",
    "    fst_sum = np.sum([phi((R[i] - 0.5) / N) for i in range(m)])\n",
    "    snd_sum = np.sum([phi((R[i] - 0.5) / N) for i in range(m, N)])\n",
    "    return np.sqrt(m * n / N) * (fst_sum / m - snd_sum / n)\n",
    "\n",
    "def get_wilcoxon(sample, n, m):\n",
    "    return get_T(sample, n, m, phi=phi_1) ** 2\n",
    "\n",
    "def get_an_br(sample, n, m):\n",
    "    return get_T(sample, n, m, phi=phi_2) ** 2\n",
    "\n",
    "def get_ks(sample1, sample2, n, m):\n",
    "    return np.sqrt(n * m / (n + m)) * scipy.stats.ks_2samp(sample1, sample2).statistic\n",
    "\n",
    "def get_statistics(n, m):\n",
    "    sample1 = np.random.normal(0, 1, n)\n",
    "    sample2 = np.random.normal(0, 1, m)\n",
    "    samples = np.concatenate((sample1, sample2))\n",
    "    w = get_wilcoxon(samples, n, m)\n",
    "    an_br = get_an_br(samples, n, m)\n",
    "    l = w + an_br\n",
    "    ks = get_ks(sample1, sample2, n, m)\n",
    "    return w, an_br, l, ks"
   ]
  },
  {
   "attachments": {},
   "cell_type": "markdown",
   "metadata": {},
   "source": [
    "## Task 1"
   ]
  },
  {
   "attachments": {},
   "cell_type": "markdown",
   "metadata": {},
   "source": [
    "Does the distribution of the statistic depends on the distribution of the data? And how?\n"
   ]
  },
  {
   "cell_type": "code",
   "execution_count": 10,
   "metadata": {},
   "outputs": [
    {
     "name": "stderr",
     "output_type": "stream",
     "text": [
      "100%|██████████| 10000/10000 [00:04<00:00, 2185.07it/s]\n"
     ]
    }
   ],
   "source": [
    "Ws, ABs, Ls, KSs = [], [], [], []\n",
    "\n",
    "for i in tqdm(range(10000)):\n",
    "    n = 20\n",
    "    m = 20\n",
    "    X = np.random.normal(0, 1, size=n)\n",
    "    sample1 = np.random.normal(0, 1, n)\n",
    "    sample2 = np.random.normal(0, 1, m)\n",
    "    samples = np.concatenate((sample1, sample2))\n",
    "\n",
    "    W = get_wilcoxon(samples, n, m)\n",
    "    AB = get_an_br(samples, n, m)\n",
    "    L = W + AB\n",
    "    KS = get_ks(sample1, sample2, n, m)\n",
    "\n",
    "    Ws.append(W)\n",
    "    ABs.append(AB)\n",
    "    Ls.append(L)\n",
    "    KSs.append(KS)"
   ]
  },
  {
   "cell_type": "code",
   "execution_count": 15,
   "metadata": {},
   "outputs": [
    {
     "name": "stdout",
     "output_type": "stream",
     "text": [
      "Standard normal 0.95-quantile: 3.841458820694124\n",
      "Wilcoxon test 0.95-quantile: 3.888000000000001\n",
      "\n",
      "Ansari-Bradley test 0.95-quantile: 3.887999999999999\n",
      "\n",
      "Chi squared with 2 df 0.95-quantile: 5.991464547107979\n",
      "Lapage test 0.95-quantile: 5.988862499999997\n",
      "\n",
      "KS 0.95-quantile: 1.3580986393225505\n",
      "KS test 0.95-quantile: 1.264911064067352\n"
     ]
    }
   ],
   "source": [
    "print(f\"Standard normal 0.95-quantile: {scipy.stats.chi2.ppf(0.95, 1)}\")\n",
    "print(f\"Wilcoxon test 0.95-quantile: {np.quantile(Ws, 0.95)}\")\n",
    "print()\n",
    "print(f\"Ansari-Bradley test 0.95-quantile: {np.quantile(ABs, 0.95)}\")\n",
    "print()\n",
    "print(f\"Chi squared with 2 df 0.95-quantile: {scipy.stats.chi2.ppf(0.95, 2)}\")\n",
    "print(f\"Lapage test 0.95-quantile: {np.quantile(Ls, 0.95)}\")\n",
    "print()\n",
    "print(f\"KS 0.95-quantile: {scipy.stats.kstwobign.ppf(0.95)}\")\n",
    "print(f\"KS test 0.95-quantile: {np.quantile(KSs, 0.95)}\")"
   ]
  }
 ],
 "metadata": {
  "kernelspec": {
   "display_name": "Python 3",
   "language": "python",
   "name": "python3"
  },
  "language_info": {
   "codemirror_mode": {
    "name": "ipython",
    "version": 3
   },
   "file_extension": ".py",
   "mimetype": "text/x-python",
   "name": "python",
   "nbconvert_exporter": "python",
   "pygments_lexer": "ipython3",
   "version": "3.10.9"
  },
  "orig_nbformat": 4,
  "vscode": {
   "interpreter": {
    "hash": "e2f3a27130d34aca3cc7158d890a0a3b752d196b28a53d9dd7db8f4aac0bff8a"
   }
  }
 },
 "nbformat": 4,
 "nbformat_minor": 2
}
