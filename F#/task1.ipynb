{
 "cells": [
  {
   "cell_type": "markdown",
   "metadata": {
    "dotnet_interactive": {
     "language": "fsharp"
    },
    "vscode": {
     "languageId": "dotnet-interactive.fsharp"
    }
   },
   "source": [
    "## Task 1\n",
    "Read the code below and figure out what it does.\n",
    "\n",
    "```\n",
    "let a = 0\n",
    "\n",
    "let b = 1\n",
    "\n",
    "let l = [b; a]\n",
    "\n",
    "let f ls =\n",
    "\n",
    "    let (x::y::_) = ls\n",
    "\n",
    "    (x+y)::ls\n",
    "\n",
    "let g f x = f ( f x)\n",
    "\n",
    "let n = g ( g ( g f)  ) l\n",
    "```\n",
    "\n",
    " Using visual studio create an F# project and send lines below to F# Interactive (REPL) to check if you got it right.   "
   ]
  },
  {
   "cell_type": "markdown",
   "metadata": {
    "dotnet_interactive": {
     "language": "fsharp"
    }
   },
   "source": [
    "> Function g appends the sum of two first elements of the list to the beginning of the same list twice."
   ]
  },
  {
   "cell_type": "code",
   "execution_count": 38,
   "metadata": {
    "dotnet_interactive": {
     "language": "fsharp"
    },
    "vscode": {
     "languageId": "dotnet-interactive.fsharp"
    }
   },
   "outputs": [
    {
     "data": {
      "text/html": [
       "<table><thead><tr><th><i>index</i></th><th>value</th></tr></thead><tbody><tr><td>0</td><td><div class=\"dni-plaintext\">34</div></td></tr><tr><td>1</td><td><div class=\"dni-plaintext\">21</div></td></tr><tr><td>2</td><td><div class=\"dni-plaintext\">13</div></td></tr><tr><td>3</td><td><div class=\"dni-plaintext\">8</div></td></tr><tr><td>4</td><td><div class=\"dni-plaintext\">5</div></td></tr><tr><td>5</td><td><div class=\"dni-plaintext\">3</div></td></tr><tr><td>6</td><td><div class=\"dni-plaintext\">2</div></td></tr><tr><td>7</td><td><div class=\"dni-plaintext\">1</div></td></tr><tr><td>8</td><td><div class=\"dni-plaintext\">1</div></td></tr><tr><td>9</td><td><div class=\"dni-plaintext\">0</div></td></tr></tbody></table>"
      ]
     },
     "metadata": {},
     "output_type": "display_data"
    }
   ],
   "source": [
    "let a = 0\n",
    "\n",
    "let b = 1\n",
    "\n",
    "let l = [b; a]\n",
    "\n",
    "let f ls =\n",
    "\n",
    "    let (x::y::_) = ls\n",
    "\n",
    "    (x+y)::ls\n",
    "\n",
    "let g f x = f ( f x)\n",
    "\n",
    "let n = g ( g ( g f)  ) l\n",
    "\n",
    "n"
   ]
  },
  {
   "cell_type": "markdown",
   "metadata": {},
   "source": [
    "## Task 2\n",
    "Define functions fst, mid, lst for 3-tuple that return first, middle and last element"
   ]
  },
  {
   "cell_type": "code",
   "execution_count": 39,
   "metadata": {
    "dotnet_interactive": {
     "language": "fsharp"
    },
    "vscode": {
     "languageId": "dotnet-interactive.fsharp"
    }
   },
   "outputs": [
    {
     "data": {
      "text/html": [
       "<table><thead><tr><th><i>index</i></th><th>value</th></tr></thead><tbody><tr><td>0</td><td><div class=\"dni-plaintext\">4</div></td></tr><tr><td>1</td><td><div class=\"dni-plaintext\">3</div></td></tr><tr><td>2</td><td><div class=\"dni-plaintext\">1</div></td></tr><tr><td>3</td><td><div class=\"dni-plaintext\">2</div></td></tr><tr><td>4</td><td><div class=\"dni-plaintext\">3</div></td></tr></tbody></table>"
      ]
     },
     "metadata": {},
     "output_type": "display_data"
    }
   ],
   "source": [
    "let fst = \n",
    "\n",
    "let mid =\n",
    "\n",
    "let lst = "
   ]
  },
  {
   "cell_type": "markdown",
   "metadata": {},
   "source": [
    "## Task 3\n",
    "\n",
    "Have a look at standard functions for operating on lists in F# here: https://fsharp.github.io/fsharp-core-docs/reference/fsharp-collections-listmodule.html\n",
    "\n",
    "With their help define functions:\n",
    "1. factorial n (the product of all positive integers less than or equal to a given positive integer, usually denoted n!)\n",
    "2. binomialCoefficient n k\n",
    "3. pascal n : int64 -> int64 list ( returning list of numbers on nth level of Pascal’s triangle)"
   ]
  },
  {
   "cell_type": "markdown",
   "metadata": {
    "dotnet_interactive": {
     "language": "csharp"
    }
   },
   "source": [
    "## Task 4\n",
    "Define a record containing: StudentName, GPA (Grade Point Average), Faculty.\n",
    "1. Faculty should be a Discriminated Union of PPT, IZ, IT, EFM, MAT\n",
    "2. Define a list containing 10 examples\n",
    "3. Define a function that prints only records for IT (HINT: use pattern matching)\n",
    "4. Define a function that calculates average GPA only for a specified faculty (passed as an argument)"
   ]
  },
  {
   "cell_type": "code",
   "execution_count": 40,
   "metadata": {
    "dotnet_interactive": {
     "language": "csharp"
    },
    "vscode": {
     "languageId": "dotnet-interactive.csharp"
    }
   },
   "outputs": [],
   "source": []
  }
 ],
 "metadata": {
  "kernelspec": {
   "display_name": ".NET (F#)",
   "language": "F#",
   "name": ".net-fsharp"
  },
  "language_info": {
   "name": "F#"
  }
 },
 "nbformat": 4,
 "nbformat_minor": 2
}
