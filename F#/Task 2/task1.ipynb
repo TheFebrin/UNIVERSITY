{
 "cells": [
  {
   "cell_type": "markdown",
   "metadata": {
    "dotnet_interactive": {
     "language": "fsharp"
    },
    "vscode": {
     "languageId": "dotnet-interactive.fsharp"
    }
   },
   "source": [
    "## Task 1\n",
    "Read the code below and figure out what it does.\n",
    "\n",
    "```\n",
    "let a = 0\n",
    "\n",
    "let b = 1\n",
    "\n",
    "let l = [b; a]\n",
    "\n",
    "let f ls =\n",
    "\n",
    "    let (x::y::_) = ls\n",
    "\n",
    "    (x+y)::ls\n",
    "\n",
    "let g f x = f ( f x)\n",
    "\n",
    "let n = g ( g ( g f)  ) l\n",
    "```\n",
    "\n",
    " Using visual studio create an F# project and send lines below to F# Interactive (REPL) to check if you got it right.   "
   ]
  },
  {
   "cell_type": "markdown",
   "metadata": {
    "dotnet_interactive": {
     "language": "fsharp"
    }
   },
   "source": [
    "> Function g appends the sum of two first elements of the list to the beginning of the same list twice."
   ]
  },
  {
   "cell_type": "code",
   "execution_count": 3,
   "metadata": {
    "dotnet_interactive": {
     "language": "fsharp"
    },
    "vscode": {
     "languageId": "dotnet-interactive.fsharp"
    }
   },
   "outputs": [
    {
     "data": {
      "text/html": [
       "<table><thead><tr><th><i>index</i></th><th>value</th></tr></thead><tbody><tr><td>0</td><td><div class=\"dni-plaintext\">34</div></td></tr><tr><td>1</td><td><div class=\"dni-plaintext\">21</div></td></tr><tr><td>2</td><td><div class=\"dni-plaintext\">13</div></td></tr><tr><td>3</td><td><div class=\"dni-plaintext\">8</div></td></tr><tr><td>4</td><td><div class=\"dni-plaintext\">5</div></td></tr><tr><td>5</td><td><div class=\"dni-plaintext\">3</div></td></tr><tr><td>6</td><td><div class=\"dni-plaintext\">2</div></td></tr><tr><td>7</td><td><div class=\"dni-plaintext\">1</div></td></tr><tr><td>8</td><td><div class=\"dni-plaintext\">1</div></td></tr><tr><td>9</td><td><div class=\"dni-plaintext\">0</div></td></tr></tbody></table>"
      ]
     },
     "metadata": {},
     "output_type": "display_data"
    }
   ],
   "source": [
    "let a = 0\n",
    "\n",
    "let b = 1\n",
    "\n",
    "let l = [b; a]\n",
    "\n",
    "let f ls =\n",
    "\n",
    "    let (x::y::_) = ls\n",
    "\n",
    "    (x+y)::ls\n",
    "\n",
    "let g f x = f ( f x)\n",
    "\n",
    "let n = g ( g ( g f)  ) l\n",
    "\n",
    "n"
   ]
  },
  {
   "cell_type": "markdown",
   "metadata": {},
   "source": [
    "## Task 2\n",
    "Define functions fst, mid, lst for 3-tuple that return first, middle and last element"
   ]
  },
  {
   "cell_type": "code",
   "execution_count": 17,
   "metadata": {
    "dotnet_interactive": {
     "language": "fsharp"
    },
    "vscode": {
     "languageId": "dotnet-interactive.fsharp"
    }
   },
   "outputs": [
    {
     "data": {
      "text/html": [
       "<table><thead><tr><th>Item1</th><th>Item2</th><th>Item3</th></tr></thead><tbody><tr><td><div class=\"dni-plaintext\">1</div></td><td><div class=\"dni-plaintext\">2</div></td><td><div class=\"dni-plaintext\">3</div></td></tr></tbody></table>"
      ]
     },
     "metadata": {},
     "output_type": "display_data"
    }
   ],
   "source": [
    "let test_tuple = 1, 2, 3\n",
    "\n",
    "let fst tuple =\n",
    "    let x, y, z = tuple\n",
    "    x\n",
    "\n",
    "let mid tuple =\n",
    "    let x, y, z = tuple\n",
    "    y\n",
    "\n",
    "let lst tuple =\n",
    "    let x, y, z = tuple\n",
    "    z\n",
    "\n",
    "fst(test_tuple), mid(test_tuple), lst(test_tuple)\n"
   ]
  },
  {
   "cell_type": "markdown",
   "metadata": {},
   "source": [
    "## Task 3\n",
    "\n",
    "Have a look at standard functions for operating on lists in F# here: https://fsharp.github.io/fsharp-core-docs/reference/fsharp-collections-listmodule.html\n",
    "\n",
    "With their help define functions:\n",
    "1. factorial n (the product of all positive integers less than or equal to a given positive integer, usually denoted n!)\n",
    "2. binomialCoefficient n k\n",
    "3. pascal n : int64 -> int64 list ( returning list of numbers on nth level of Pascal’s triangle)"
   ]
  },
  {
   "cell_type": "code",
   "execution_count": 21,
   "metadata": {
    "dotnet_interactive": {
     "language": "fsharp"
    },
    "vscode": {
     "languageId": "dotnet-interactive.fsharp"
    }
   },
   "outputs": [
    {
     "data": {
      "text/html": [
       "<table><thead><tr><th>Item1</th><th>Item2</th><th>Item3</th></tr></thead><tbody><tr><td><div class=\"dni-plaintext\">120</div></td><td><div class=\"dni-plaintext\">720</div></td><td><div class=\"dni-plaintext\">5040</div></td></tr></tbody></table>"
      ]
     },
     "metadata": {},
     "output_type": "display_data"
    }
   ],
   "source": [
    "// factorial\n",
    "\n",
    "let factorial (n: int) : int =\n",
    "    let n2: int = max 1 n\n",
    "    [ 1..n2 ] |> List.reduce (fun a b -> a * b)\n",
    "\n",
    "\n",
    "factorial (5), factorial (6), factorial (7)\n"
   ]
  },
  {
   "cell_type": "code",
   "execution_count": 39,
   "metadata": {
    "dotnet_interactive": {
     "language": "fsharp"
    },
    "vscode": {
     "languageId": "dotnet-interactive.fsharp"
    }
   },
   "outputs": [
    {
     "data": {
      "text/html": [
       "<table><thead><tr><th>Item1</th><th>Item2</th><th>Item3</th><th>Item4</th></tr></thead><tbody><tr><td><div class=\"dni-plaintext\">35</div></td><td><div class=\"dni-plaintext\">6</div></td><td><div class=\"dni-plaintext\">5</div></td><td><div class=\"dni-plaintext\">4</div></td></tr></tbody></table>"
      ]
     },
     "metadata": {},
     "output_type": "display_data"
    }
   ],
   "source": [
    "// binomial\n",
    "\n",
    "let binomialCoefficient n k =\n",
    "    factorial (n) / (factorial (k) * factorial (n - k))\n",
    "\n",
    "binomialCoefficient 7 3, binomialCoefficient 6 5, binomialCoefficient 5 4, binomialCoefficient 4 3\n"
   ]
  },
  {
   "cell_type": "code",
   "execution_count": 42,
   "metadata": {
    "dotnet_interactive": {
     "language": "fsharp"
    },
    "vscode": {
     "languageId": "dotnet-interactive.fsharp"
    }
   },
   "outputs": [
    {
     "data": {
      "text/html": [
       "<table><thead><tr><th>Item1</th><th>Item2</th><th>Item3</th><th>Item4</th><th>Item5</th></tr></thead><tbody><tr><td><div class=\"dni-plaintext\">[ 1 ]</div></td><td><div class=\"dni-plaintext\">[ 1, 2, 1 ]</div></td><td><div class=\"dni-plaintext\">[ 1, 3, 3, 1 ]</div></td><td><div class=\"dni-plaintext\">[ 1, 4, 6, 4, 1 ]</div></td><td><div class=\"dni-plaintext\">[ 1, 5, 10, 10, 5, 1 ]</div></td></tr></tbody></table>"
      ]
     },
     "metadata": {},
     "output_type": "display_data"
    }
   ],
   "source": [
    "// pascal\n",
    "\n",
    "let pascal (n: int) : int list =\n",
    "    match n with\n",
    "    | 1 -> [ 1 ]\n",
    "    | _ -> 1 :: ([ 1..n ] |> List.map (fun x -> binomialCoefficient n x))\n",
    "\n",
    "\n",
    "pascal (1), pascal (2), pascal (3), pascal(4), pascal(5)"
   ]
  },
  {
   "cell_type": "markdown",
   "metadata": {
    "dotnet_interactive": {
     "language": "csharp"
    }
   },
   "source": [
    "## Task 4\n",
    "Define a record containing: StudentName, GPA (Grade Point Average), Faculty.\n",
    "1. Faculty should be a Discriminated Union of PPT, IZ, IT, EFM, MAT\n",
    "2. Define a list containing 10 examples\n",
    "3. Define a function that prints only records for IT (HINT: use pattern matching)\n",
    "4. Define a function that calculates average GPA only for a specified faculty (passed as an argument)"
   ]
  },
  {
   "cell_type": "code",
   "execution_count": 55,
   "metadata": {
    "dotnet_interactive": {
     "language": "csharp"
    },
    "vscode": {
     "languageId": "dotnet-interactive.csharp"
    }
   },
   "outputs": [],
   "source": [
    "type Faculty =\n",
    "    | PPT of grade: float\n",
    "    | IZ of grade: float\n",
    "    | IT of grade: float\n",
    "    | EFM of grade: float\n",
    "    | MAT of grade: float\n",
    "\n",
    "    member self.getGrade =\n",
    "        match self with\n",
    "        | PPT grade -> grade\n",
    "        | IZ grade -> grade\n",
    "        | IT grade -> grade\n",
    "        | EFM grade -> grade\n",
    "        | MAT grade -> grade\n",
    "\n",
    "type Student =\n",
    "  { \n",
    "    studentName: string\n",
    "    gpa: float\n",
    "    faculty: Faculty \n",
    "  }\n",
    "\n",
    "let studentIT =\n",
    "  { \n",
    "    studentName = \"StudentIt\"\n",
    "    gpa = 4.0\n",
    "    faculty = IT(5.0) \n",
    "  }\n",
    "\n",
    "let studentMAT =\n",
    "  { \n",
    "    studentName = \"StudentMat\"\n",
    "    gpa = 5.0\n",
    "    faculty = MAT(4.0) \n",
    "  }\n",
    "\n",
    "\n",
    "let rec getItStudents (studentsList: Student list) : Student list =\n",
    "    studentsList\n",
    "    |> List.filter (function\n",
    "        | { faculty = IT (_) } -> true\n",
    "        | _ -> false)\n",
    "\n",
    "\n",
    "let studentsList = [ studentIT ] @ [ for i in 1..9 -> studentMAT ]\n",
    "getItStudents studentsList\n",
    "\n",
    "\n",
    "let calculateGPA (studentsList: Student list) (faculty: Faculty) : float =\n",
    "    if studentsList = [] then\n",
    "        0.0\n",
    "    else\n",
    "        let facultyTypedStudentList =\n",
    "            List.filter\n",
    "                (function\n",
    "                | x when x.faculty.GetType() = faculty.GetType() -> true\n",
    "                | _ -> false)\n",
    "                studentsList\n",
    "\n",
    "        let rec iter list acc num =\n",
    "            match list with\n",
    "            | head :: tail -> iter tail (acc + head.faculty.getGrade) (num + 1.0)\n",
    "            | [] when num > 0.0-> (acc / num)\n",
    "            | [] -> 0.0\n",
    "\n",
    "        (iter studentsList 0.0 0.0)\n",
    "\n",
    "\n",
    "calculateGPA studentsList (IT -1.0)\n"
   ]
  }
 ],
 "metadata": {
  "kernelspec": {
   "display_name": ".NET (F#)",
   "language": "F#",
   "name": ".net-fsharp"
  },
  "language_info": {
   "name": "F#"
  }
 },
 "nbformat": 4,
 "nbformat_minor": 2
}
