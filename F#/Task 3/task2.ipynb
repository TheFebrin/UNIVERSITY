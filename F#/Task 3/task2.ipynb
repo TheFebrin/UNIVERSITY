{
 "cells": [
  {
   "cell_type": "markdown",
   "metadata": {},
   "source": [
    "### 1. Write your own implementation of List.fold and List.foldBack. Recursive if possible. Might use List.rev"
   ]
  },
  {
   "cell_type": "code",
   "execution_count": 20,
   "metadata": {
    "dotnet_interactive": {
     "language": "fsharp"
    },
    "vscode": {
     "languageId": "dotnet-interactive.fsharp"
    }
   },
   "outputs": [
    {
     "name": "stderr",
     "output_type": "stream",
     "text": [
      "Stopped due to error\n"
     ]
    },
    {
     "ename": "Error",
     "evalue": "input.fsx (2,8)-(2,20) typecheck error Lookup on object of indeterminate type based on information prior to this program point. A type annotation may be needed prior to this program point to constrain the type of the object. This may allow the lookup to be resolved.\ninput.fsx (5,24)-(5,33) typecheck error This value is not a function and cannot be applied.\ninput.fsx (5,54)-(5,63) typecheck error Lookup on object of indeterminate type based on information prior to this program point. A type annotation may be needed prior to this program point to constrain the type of the object. This may allow the lookup to be resolved.",
     "output_type": "error",
     "traceback": [
      "input.fsx (2,8)-(2,20) typecheck error Lookup on object of indeterminate type based on information prior to this program point. A type annotation may be needed prior to this program point to constrain the type of the object. This may allow the lookup to be resolved.\n",
      "input.fsx (5,24)-(5,33) typecheck error This value is not a function and cannot be applied.\n",
      "input.fsx (5,54)-(5,63) typecheck error Lookup on object of indeterminate type based on information prior to this program point. A type annotation may be needed prior to this program point to constrain the type of the object. This may allow the lookup to be resolved."
     ]
    }
   ],
   "source": [
    "let fold operator (beg_value : float) (list : list<int8>) =\n",
    "    if list.isEmpty then\n",
    "        beg_value\n",
    "    else\n",
    "        fold operator (beg_value operator list.Head) list.Tail\n",
    "\n",
    "\n",
    "fold (+) 0 [1; 2; 3]\n"
   ]
  },
  {
   "cell_type": "code",
   "execution_count": 21,
   "metadata": {
    "dotnet_interactive": {
     "language": "fsharp"
    },
    "vscode": {
     "languageId": "dotnet-interactive.fsharp"
    }
   },
   "outputs": [],
   "source": [
    "List.fold"
   ]
  },
  {
   "cell_type": "markdown",
   "metadata": {},
   "source": [
    "### 2. Write a function SumAhead that sums list of int starting from first i<0 until the end of the list\n",
    "\n",
    "E.g. [3;3;-1;5;5;-2;6;4;-3;8;2] -> 24 ; [] -> 0 ; [1,2,3] -> 0\n",
    "\n",
    "Use List.fold, then use your own implementation to check if it works the same way."
   ]
  },
  {
   "cell_type": "code",
   "execution_count": null,
   "metadata": {
    "dotnet_interactive": {
     "language": "csharp"
    },
    "vscode": {
     "languageId": "dotnet-interactive.csharp"
    }
   },
   "outputs": [],
   "source": []
  },
  {
   "cell_type": "markdown",
   "metadata": {},
   "source": [
    "### 3. Write a function SumBack that sums back list of int starting from last i<0 until the beginning of the list.\n",
    "\n",
    "E.g. [3;3;-1;5;5;-2;6;4;-3;8;2] -> 20 ; [] -> 0 ; [1,2,3] -> 0\n",
    "\n",
    "Use List.foldBack, then use your own implementation to check if it works the same way.\n",
    "\n",
    "Ad 2,3: Using Option int as State in fold might help. But finally return int (rather than Option int) from function SumAhead/SumBack."
   ]
  },
  {
   "cell_type": "code",
   "execution_count": null,
   "metadata": {
    "dotnet_interactive": {
     "language": "csharp"
    },
    "vscode": {
     "languageId": "dotnet-interactive.csharp"
    }
   },
   "outputs": [],
   "source": []
  },
  {
   "cell_type": "markdown",
   "metadata": {},
   "source": [
    "### 4. Write a function to count number of non-white characters plus position in list of strings.\n",
    "\n",
    "Remove empty elements/whitespace elements from input list (System.String.IsNullOrWhiteSpace) and trim starting and trailing spaces to create new list.\n",
    "\n",
    "For every remaining element count number of characters and add position number (starting from 0) in a new list.\n",
    "\n",
    "[\"   ala\";\"\";\"ma \";\" \";\"kota\";\"   \"]  -> 12 ;\n",
    "\n",
    "[\"   ala i ela\";\"\";\"ma \";\" \";\"kota\";\"   \"]  -> 18\n",
    "\n",
    "[] ->0 ; [\"\";\"  \"] -> 0\n",
    "\n",
    " \n",
    "\n",
    "List module might be helpful, like List.filter, List.mapi, List.sum\n",
    "\n",
    "Reference of modules like List, Option, Seq, Array is available on\n",
    "\n",
    "https://fsharp.github.io/fsharp-core-docs/reference/fsharp-collections-listmodule.html"
   ]
  },
  {
   "cell_type": "code",
   "execution_count": null,
   "metadata": {
    "dotnet_interactive": {
     "language": "csharp"
    },
    "vscode": {
     "languageId": "dotnet-interactive.csharp"
    }
   },
   "outputs": [],
   "source": []
  },
  {
   "cell_type": "markdown",
   "metadata": {},
   "source": []
  }
 ],
 "metadata": {
  "kernelspec": {
   "display_name": ".NET (C#)",
   "language": "C#",
   "name": ".net-csharp"
  },
  "language_info": {
   "file_extension": ".cs",
   "mimetype": "text/x-csharp",
   "name": "C#",
   "pygments_lexer": "csharp",
   "version": "9.0"
  },
  "orig_nbformat": 4
 },
 "nbformat": 4,
 "nbformat_minor": 2
}
