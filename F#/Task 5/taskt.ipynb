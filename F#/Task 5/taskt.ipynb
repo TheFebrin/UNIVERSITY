{
 "cells": [
  {
   "cell_type": "code",
   "execution_count": 1,
   "metadata": {},
   "outputs": [],
   "source": [
    "import numpy as np\n",
    "import pandas as pd"
   ]
  },
  {
   "cell_type": "markdown",
   "metadata": {},
   "source": [
    "# Lecture 5: Introduction to Option Pricing\n"
   ]
  },
  {
   "cell_type": "markdown",
   "metadata": {},
   "source": [
    "## 1. Implement Black-Scholes formulas for option prices and deltas (in any programming language or spreadsheet). Prepare a short report"
   ]
  },
  {
   "cell_type": "markdown",
   "metadata": {},
   "source": [
    "## 2. Repeat exercises 1b. and 1d. for a different volatility level (20%). What has changed compared to the case where 𝜎 = 10% and why?"
   ]
  },
  {
   "cell_type": "markdown",
   "metadata": {},
   "source": [
    "## 3. How would you calculate a value of a contract paying 1 unit of cash, if stock price on maturity is above some level 𝐾 (i.e. 𝑆𝑇 > 𝐾), 0 otherwise. Explain your reasoning."
   ]
  },
  {
   "cell_type": "markdown",
   "metadata": {},
   "source": []
  }
 ],
 "metadata": {
  "kernelspec": {
   "display_name": "Python 3.10.8 64-bit (microsoft store)",
   "language": "python",
   "name": "python3"
  },
  "language_info": {
   "codemirror_mode": {
    "name": "ipython",
    "version": 3
   },
   "file_extension": ".py",
   "mimetype": "text/x-python",
   "name": "python",
   "nbconvert_exporter": "python",
   "pygments_lexer": "ipython3",
   "version": "3.10.9"
  },
  "orig_nbformat": 4,
  "vscode": {
   "interpreter": {
    "hash": "e2f3a27130d34aca3cc7158d890a0a3b752d196b28a53d9dd7db8f4aac0bff8a"
   }
  }
 },
 "nbformat": 4,
 "nbformat_minor": 2
}
